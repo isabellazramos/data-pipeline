{
 "metadata": {
  "language_info": {
   "codemirror_mode": {
    "name": "ipython",
    "version": 3
   },
   "file_extension": ".py",
   "mimetype": "text/x-python",
   "name": "python",
   "nbconvert_exporter": "python",
   "pygments_lexer": "ipython3",
   "version": "3.8.5"
  },
  "orig_nbformat": 4,
  "kernelspec": {
   "name": "python3",
   "display_name": "Python 3.8.5 64-bit ('base': conda)"
  },
  "interpreter": {
   "hash": "006c6b9e1a017b6fca61b18d5005c5233629fba946f7e9f27bc7ff535526f5b9"
  }
 },
 "nbformat": 4,
 "nbformat_minor": 2,
 "cells": [
  {
   "source": [
    "# Inserindo os dados no banco\n",
    "\n",
    "- Os dados capturados estão presentes na plataforma Kaggle. (https://www.kaggle.com/aayushmishra1512/twitchdata)\n",
    "- O dataset contém os principais canais da Twitch. Esses dados consistem em coisas diferentes, como número de visualizadores, número de visualizadores ativos, seguidores ganhos e muitas outras colunas relevantes sobre um determinado streamer. Possui 11 colunas diferentes com todas as informações necessárias.\n",
    "\n"
   ],
   "cell_type": "markdown",
   "metadata": {}
  },
  {
   "cell_type": "code",
   "execution_count": 1,
   "metadata": {},
   "outputs": [],
   "source": [
    "# Fazendo os imports necessários\n",
    "\n",
    "import psycopg2 as db\n",
    "import pandas as pd"
   ]
  },
  {
   "cell_type": "code",
   "execution_count": 2,
   "metadata": {},
   "outputs": [
    {
     "output_type": "execute_result",
     "data": {
      "text/plain": [
       "    Channel  Watch time(Minutes)  Stream time(minutes)  Peak viewers  \\\n",
       "0     xQcOW           6196161750                215250        222720   \n",
       "1  summit1g           6091677300                211845        310998   \n",
       "2    Gaules           5644590915                515280        387315   \n",
       "3  ESL_CSGO           3970318140                517740        300575   \n",
       "4      Tfue           3671000070                123660        285644   \n",
       "\n",
       "   Average viewers  Followers  Followers gained  Views gained  Partnered  \\\n",
       "0            27716    3246298           1734810      93036735       True   \n",
       "1            25610    5310163           1370184      89705964       True   \n",
       "2            10976    1767635           1023779     102611607       True   \n",
       "3             7714    3944850            703986     106546942       True   \n",
       "4            29602    8938903           2068424      78998587       True   \n",
       "\n",
       "   Mature    Language  \n",
       "0   False     English  \n",
       "1   False     English  \n",
       "2    True  Portuguese  \n",
       "3   False     English  \n",
       "4   False     English  "
      ],
      "text/html": "<div>\n<style scoped>\n    .dataframe tbody tr th:only-of-type {\n        vertical-align: middle;\n    }\n\n    .dataframe tbody tr th {\n        vertical-align: top;\n    }\n\n    .dataframe thead th {\n        text-align: right;\n    }\n</style>\n<table border=\"1\" class=\"dataframe\">\n  <thead>\n    <tr style=\"text-align: right;\">\n      <th></th>\n      <th>Channel</th>\n      <th>Watch time(Minutes)</th>\n      <th>Stream time(minutes)</th>\n      <th>Peak viewers</th>\n      <th>Average viewers</th>\n      <th>Followers</th>\n      <th>Followers gained</th>\n      <th>Views gained</th>\n      <th>Partnered</th>\n      <th>Mature</th>\n      <th>Language</th>\n    </tr>\n  </thead>\n  <tbody>\n    <tr>\n      <th>0</th>\n      <td>xQcOW</td>\n      <td>6196161750</td>\n      <td>215250</td>\n      <td>222720</td>\n      <td>27716</td>\n      <td>3246298</td>\n      <td>1734810</td>\n      <td>93036735</td>\n      <td>True</td>\n      <td>False</td>\n      <td>English</td>\n    </tr>\n    <tr>\n      <th>1</th>\n      <td>summit1g</td>\n      <td>6091677300</td>\n      <td>211845</td>\n      <td>310998</td>\n      <td>25610</td>\n      <td>5310163</td>\n      <td>1370184</td>\n      <td>89705964</td>\n      <td>True</td>\n      <td>False</td>\n      <td>English</td>\n    </tr>\n    <tr>\n      <th>2</th>\n      <td>Gaules</td>\n      <td>5644590915</td>\n      <td>515280</td>\n      <td>387315</td>\n      <td>10976</td>\n      <td>1767635</td>\n      <td>1023779</td>\n      <td>102611607</td>\n      <td>True</td>\n      <td>True</td>\n      <td>Portuguese</td>\n    </tr>\n    <tr>\n      <th>3</th>\n      <td>ESL_CSGO</td>\n      <td>3970318140</td>\n      <td>517740</td>\n      <td>300575</td>\n      <td>7714</td>\n      <td>3944850</td>\n      <td>703986</td>\n      <td>106546942</td>\n      <td>True</td>\n      <td>False</td>\n      <td>English</td>\n    </tr>\n    <tr>\n      <th>4</th>\n      <td>Tfue</td>\n      <td>3671000070</td>\n      <td>123660</td>\n      <td>285644</td>\n      <td>29602</td>\n      <td>8938903</td>\n      <td>2068424</td>\n      <td>78998587</td>\n      <td>True</td>\n      <td>False</td>\n      <td>English</td>\n    </tr>\n  </tbody>\n</table>\n</div>"
     },
     "metadata": {},
     "execution_count": 2
    }
   ],
   "source": [
    "# Capturando o csv\n",
    "\n",
    "dataframe = pd.read_csv('../data/twitchdata.csv')\n",
    "dataframe.head()"
   ]
  },
  {
   "cell_type": "code",
   "execution_count": 37,
   "metadata": {},
   "outputs": [],
   "source": [
    "# Conectando com o banco\n",
    "\n",
    "#Step 1 - Definição da string de conexão\n",
    "conn_string = \"dbname= 'postgres' host= 'localhost' user='postgres' password= 'admin'\"\n",
    "\n",
    "#Step 2 - chamada para a conexão com o banco\n",
    "conn=db.connect(conn_string)\n",
    "\n",
    "#Step 3 - Criação de cursor\n",
    "cur=conn.cursor()"
   ]
  },
  {
   "cell_type": "code",
   "execution_count": 38,
   "metadata": {},
   "outputs": [],
   "source": [
    "# Query para adicionar no banco de dados\n",
    "\n",
    "query = \"INSERT INTO dsp_sauter.twitchdata (channel,watch_time,stream_time,peak_viewrs,average_viewers,followers,followers_gained,views_gained,partnered,mature,lang) VALUES (%s,%s,%s,%s,%s,%s,%s,%s,%s,%s,%s)\"\n"
   ]
  },
  {
   "cell_type": "code",
   "execution_count": 39,
   "metadata": {},
   "outputs": [],
   "source": [
    "data_list = [list(row) for row in dataframe.itertuples(index=False)] "
   ]
  },
  {
   "cell_type": "code",
   "execution_count": 40,
   "metadata": {},
   "outputs": [],
   "source": [
    "cur.executemany(query,data_list)\n",
    "conn.commit()"
   ]
  }
 ]
}